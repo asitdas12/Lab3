{
    "metadata": {
        "kernelspec": {
            "name": "python3",
            "display_name": "Python 3 (ipykernel)",
            "language": "python"
        }
    },
    "nbformat": 4,
    "nbformat_minor": 2,
    "cells": [
        {
            "attachments": {},
            "cell_type": "markdown",
            "metadata": {},
            "source": [
                "# **Maximum Entropy Classifier**"
            ]
        },
        {
            "attachments": {},
            "cell_type": "markdown",
            "metadata": {},
            "source": [
                "This program predicts music preference based on age and gender and returns data entropy and average prediction accuracy over 30 runs.\u003cbr\u003e\n",
                "Run the code by clicking \u003cb\u003eRun All\u003c/b\u003e."
            ]
        },
        {
            "cell_type": "code",
            "execution_count": 1,
            "metadata": {},
            "outputs": [],
            "source": [
                "#import pandas, scipy and sklearn packages\n",
                "\n",
                "import pandas as pd\n",
                "import scipy.stats\n",
                "from sklearn.tree import DecisionTreeClassifier\n",
                "from sklearn.model_selection import train_test_split\n",
                "from sklearn.metrics import accuracy_score\n",
                "from sklearn import tree\n",
                "from itertools import repeat\n",
                "import numpy as np"
            ]
        },
        {
            "attachments": {},
            "cell_type": "markdown",
            "metadata": {},
            "source": [
                "**1. Read in the dataset**"
            ]
        },
        {
            "cell_type": "code",
            "execution_count": 2,
            "metadata": {},
            "outputs": [
                {
                    "data": {
                        "text/html": "\u003cdiv\u003e\n\u003cstyle scoped\u003e\n    .dataframe tbody tr th:only-of-type {\n        vertical-align: middle;\n    }\n\n    .dataframe tbody tr th {\n        vertical-align: top;\n    }\n\n    .dataframe thead th {\n        text-align: right;\n    }\n\u003c/style\u003e\n\u003ctable border=\"1\" class=\"dataframe\"\u003e\n  \u003cthead\u003e\n    \u003ctr style=\"text-align: right;\"\u003e\n      \u003cth\u003e\u003c/th\u003e\n      \u003cth\u003eage\u003c/th\u003e\n      \u003cth\u003egender\u003c/th\u003e\n      \u003cth\u003egenre\u003c/th\u003e\n    \u003c/tr\u003e\n  \u003c/thead\u003e\n  \u003ctbody\u003e\n    \u003ctr\u003e\n      \u003cth\u003e0\u003c/th\u003e\n      \u003ctd\u003e20\u003c/td\u003e\n      \u003ctd\u003e1\u003c/td\u003e\n      \u003ctd\u003eHipHop\u003c/td\u003e\n    \u003c/tr\u003e\n    \u003ctr\u003e\n      \u003cth\u003e1\u003c/th\u003e\n      \u003ctd\u003e23\u003c/td\u003e\n      \u003ctd\u003e1\u003c/td\u003e\n      \u003ctd\u003eHipHop\u003c/td\u003e\n    \u003c/tr\u003e\n    \u003ctr\u003e\n      \u003cth\u003e2\u003c/th\u003e\n      \u003ctd\u003e25\u003c/td\u003e\n      \u003ctd\u003e1\u003c/td\u003e\n      \u003ctd\u003eHipHop\u003c/td\u003e\n    \u003c/tr\u003e\n    \u003ctr\u003e\n      \u003cth\u003e3\u003c/th\u003e\n      \u003ctd\u003e26\u003c/td\u003e\n      \u003ctd\u003e1\u003c/td\u003e\n      \u003ctd\u003eJazz\u003c/td\u003e\n    \u003c/tr\u003e\n    \u003ctr\u003e\n      \u003cth\u003e4\u003c/th\u003e\n      \u003ctd\u003e29\u003c/td\u003e\n      \u003ctd\u003e1\u003c/td\u003e\n      \u003ctd\u003eJazz\u003c/td\u003e\n    \u003c/tr\u003e\n  \u003c/tbody\u003e\n\u003c/table\u003e\n\u003c/div\u003e",
                        "text/plain": "   age  gender   genre\n0   20       1  HipHop\n1   23       1  HipHop\n2   25       1  HipHop\n3   26       1    Jazz\n4   29       1    Jazz"
                    },
                    "execution_count": 2,
                    "metadata": {},
                    "output_type": "execute_result"
                }
            ],
            "source": [
                "df = pd.read_csv('SupervisedLearning/supervised_test.csv')\n",
                "\n",
                "#TODO: Write code below to inspect the first five rows of the data frame\n",
                "df.head()"
            ]
        },
        {
            "attachments": {},
            "cell_type": "markdown",
            "metadata": {},
            "source": [
                "**2. Split the dataset**"
            ]
        },
        {
            "cell_type": "code",
            "execution_count": 3,
            "metadata": {},
            "outputs": [
                {
                    "data": {
                        "text/html": "\u003cdiv\u003e\n\u003cstyle scoped\u003e\n    .dataframe tbody tr th:only-of-type {\n        vertical-align: middle;\n    }\n\n    .dataframe tbody tr th {\n        vertical-align: top;\n    }\n\n    .dataframe thead th {\n        text-align: right;\n    }\n\u003c/style\u003e\n\u003ctable border=\"1\" class=\"dataframe\"\u003e\n  \u003cthead\u003e\n    \u003ctr style=\"text-align: right;\"\u003e\n      \u003cth\u003e\u003c/th\u003e\n      \u003cth\u003eage\u003c/th\u003e\n      \u003cth\u003egender\u003c/th\u003e\n    \u003c/tr\u003e\n  \u003c/thead\u003e\n  \u003ctbody\u003e\n    \u003ctr\u003e\n      \u003cth\u003e0\u003c/th\u003e\n      \u003ctd\u003e20\u003c/td\u003e\n      \u003ctd\u003e1\u003c/td\u003e\n    \u003c/tr\u003e\n    \u003ctr\u003e\n      \u003cth\u003e1\u003c/th\u003e\n      \u003ctd\u003e23\u003c/td\u003e\n      \u003ctd\u003e1\u003c/td\u003e\n    \u003c/tr\u003e\n    \u003ctr\u003e\n      \u003cth\u003e2\u003c/th\u003e\n      \u003ctd\u003e25\u003c/td\u003e\n      \u003ctd\u003e1\u003c/td\u003e\n    \u003c/tr\u003e\n    \u003ctr\u003e\n      \u003cth\u003e3\u003c/th\u003e\n      \u003ctd\u003e26\u003c/td\u003e\n      \u003ctd\u003e1\u003c/td\u003e\n    \u003c/tr\u003e\n    \u003ctr\u003e\n      \u003cth\u003e4\u003c/th\u003e\n      \u003ctd\u003e29\u003c/td\u003e\n      \u003ctd\u003e1\u003c/td\u003e\n    \u003c/tr\u003e\n    \u003ctr\u003e\n      \u003cth\u003e5\u003c/th\u003e\n      \u003ctd\u003e30\u003c/td\u003e\n      \u003ctd\u003e1\u003c/td\u003e\n    \u003c/tr\u003e\n    \u003ctr\u003e\n      \u003cth\u003e6\u003c/th\u003e\n      \u003ctd\u003e31\u003c/td\u003e\n      \u003ctd\u003e1\u003c/td\u003e\n    \u003c/tr\u003e\n    \u003ctr\u003e\n      \u003cth\u003e7\u003c/th\u003e\n      \u003ctd\u003e33\u003c/td\u003e\n      \u003ctd\u003e1\u003c/td\u003e\n    \u003c/tr\u003e\n    \u003ctr\u003e\n      \u003cth\u003e8\u003c/th\u003e\n      \u003ctd\u003e37\u003c/td\u003e\n      \u003ctd\u003e1\u003c/td\u003e\n    \u003c/tr\u003e\n    \u003ctr\u003e\n      \u003cth\u003e9\u003c/th\u003e\n      \u003ctd\u003e20\u003c/td\u003e\n      \u003ctd\u003e0\u003c/td\u003e\n    \u003c/tr\u003e\n    \u003ctr\u003e\n      \u003cth\u003e10\u003c/th\u003e\n      \u003ctd\u003e21\u003c/td\u003e\n      \u003ctd\u003e0\u003c/td\u003e\n    \u003c/tr\u003e\n    \u003ctr\u003e\n      \u003cth\u003e11\u003c/th\u003e\n      \u003ctd\u003e25\u003c/td\u003e\n      \u003ctd\u003e0\u003c/td\u003e\n    \u003c/tr\u003e\n    \u003ctr\u003e\n      \u003cth\u003e12\u003c/th\u003e\n      \u003ctd\u003e26\u003c/td\u003e\n      \u003ctd\u003e0\u003c/td\u003e\n    \u003c/tr\u003e\n    \u003ctr\u003e\n      \u003cth\u003e13\u003c/th\u003e\n      \u003ctd\u003e27\u003c/td\u003e\n      \u003ctd\u003e0\u003c/td\u003e\n    \u003c/tr\u003e\n    \u003ctr\u003e\n      \u003cth\u003e14\u003c/th\u003e\n      \u003ctd\u003e30\u003c/td\u003e\n      \u003ctd\u003e0\u003c/td\u003e\n    \u003c/tr\u003e\n    \u003ctr\u003e\n      \u003cth\u003e15\u003c/th\u003e\n      \u003ctd\u003e31\u003c/td\u003e\n      \u003ctd\u003e0\u003c/td\u003e\n    \u003c/tr\u003e\n    \u003ctr\u003e\n      \u003cth\u003e16\u003c/th\u003e\n      \u003ctd\u003e34\u003c/td\u003e\n      \u003ctd\u003e0\u003c/td\u003e\n    \u003c/tr\u003e\n    \u003ctr\u003e\n      \u003cth\u003e17\u003c/th\u003e\n      \u003ctd\u003e35\u003c/td\u003e\n      \u003ctd\u003e0\u003c/td\u003e\n    \u003c/tr\u003e\n  \u003c/tbody\u003e\n\u003c/table\u003e\n\u003c/div\u003e",
                        "text/plain": "    age  gender\n0    20       1\n1    23       1\n2    25       1\n3    26       1\n4    29       1\n5    30       1\n6    31       1\n7    33       1\n8    37       1\n9    20       0\n10   21       0\n11   25       0\n12   26       0\n13   27       0\n14   30       0\n15   31       0\n16   34       0\n17   35       0"
                    },
                    "execution_count": 3,
                    "metadata": {},
                    "output_type": "execute_result"
                }
            ],
            "source": [
                "# Run this section to inspect X\n",
                "X = df.drop(columns = ['genre'])\n",
                "\n",
                "#TODO: Write code to inspect X\n",
                "X"
            ]
        },
        {
            "cell_type": "code",
            "execution_count": 4,
            "metadata": {},
            "outputs": [
                {
                    "data": {
                        "text/plain": "0        HipHop\n1        HipHop\n2        HipHop\n3          Jazz\n4          Jazz\n5          Jazz\n6     Classical\n7     Classical\n8     Classical\n9         Dance\n10        Dance\n11        Dance\n12     Acoustic\n13     Acoustic\n14     Acoustic\n15    Classical\n16    Classical\n17    Classical\nName: genre, dtype: object"
                    },
                    "execution_count": 4,
                    "metadata": {},
                    "output_type": "execute_result"
                }
            ],
            "source": [
                "# Uncomment this section to inpect y\n",
                "y = df['genre']\n",
                "\n",
                "#TODO: Write code to inspect y\n",
                "y"
            ]
        },
        {
            "attachments": {},
            "cell_type": "markdown",
            "metadata": {},
            "source": [
                "**3. Compute entropy of data set**"
            ]
        },
        {
            "cell_type": "code",
            "execution_count": 5,
            "metadata": {},
            "outputs": [
                {
                    "data": {
                        "text/plain": "1.5607104090414068"
                    },
                    "execution_count": 5,
                    "metadata": {},
                    "output_type": "execute_result"
                }
            ],
            "source": [
                "# Compute the maximum entropy value\n",
                "k = y.unique().size\n",
                "maxE = np.log2(k)\n",
                "p_data = y.value_counts(normalize=True)           # counts occurrence of each value\n",
                "entropy = scipy.stats.entropy(p_data)  # get entropy from counts\n",
                "\n",
                "# normalize the value to be between 0 and 1.\n",
                "normalizedE = entropy/maxE\n",
                "\n",
                "#TODO: Write code to display the entropy value\n",
                "entropy"
            ]
        },
        {
            "attachments": {},
            "cell_type": "markdown",
            "metadata": {},
            "source": [
                "**4. Testing: entropy-based decision tree classifier averaged over 30 runs**"
            ]
        },
        {
            "cell_type": "code",
            "execution_count": 6,
            "metadata": {},
            "outputs": [],
            "source": [
                "avg_score = 0.0\n",
                "ntimes = 30\n",
                "\n",
                "for i in repeat(None, ntimes):\n",
                "\n",
                "    # train model with 80% of the data\n",
                "    X_train, X_test, y_train, y_test = train_test_split(X, y, test_size=0.2)\n",
                "\n",
                "    # prediction using entropy\n",
                "    # Note: You can replace 'entropy' by 'gini' to get the classifier to use the gini index criterion.\n",
                "    model = DecisionTreeClassifier(criterion='entropy')\n",
                "    model.fit(X_train,y_train)\n",
                "    predictions = model.predict(X_test)\n",
                "\n",
                "    # compute model accuracy\n",
                "    avg_score += accuracy_score(y_test, predictions)\n",
                "\n",
                "avg_score /= ntimes"
            ]
        },
        {
            "attachments": {},
            "cell_type": "markdown",
            "metadata": {},
            "source": [
                "**5. print outputs**"
            ]
        },
        {
            "cell_type": "code",
            "execution_count": 7,
            "metadata": {},
            "outputs": [
                {
                    "name": "stdout",
                    "output_type": "stream",
                    "text": "normalized entropy value: 0.672\naverage accuracy score: 0.817\n"
                }
            ],
            "source": [
                "print('normalized entropy value: %.3f'% normalizedE)\n",
                "print('average accuracy score: %.3f' % avg_score)\n",
                ""
            ]
        },
        {
            "attachments": {},
            "cell_type": "markdown",
            "metadata": {},
            "source": [
                "**Output the tree dot file**"
            ]
        },
        {
            "cell_type": "code",
            "execution_count": 8,
            "metadata": {},
            "outputs": [],
            "source": [
                "# output visual (can be visualized with visual code)\n",
                "tree.export_graphviz(model, out_file='SupervisedLearning/EntropySupervisedModel.dot',\n",
                "                    feature_names=['age', 'gender'],\n",
                "                    class_names=sorted(y.unique()),\n",
                "                    label='all',\n",
                "                    rounded=True,\n",
                "                    filled=True)"
            ]
        },
        {
            "attachments": {},
            "cell_type": "markdown",
            "metadata": {},
            "source": [
                "**6. Earn Your Wings: Do it yourself \u0026 Gini index test**\n",
                "\n",
                "Test this algorithm on your own data set.\n",
                "Repeat steps 4 and 5 with the gini index criterion, and save the visualization with *gini*. \n",
                "\n",
                "Open the dot files in VS Code, take screenshots of both trees and insert them in the text cell below."
            ]
        },
        {
            "cell_type": "code",
            "execution_count": 9,
            "metadata": {},
            "outputs": [
                {
                    "data": {
                        "text/html": "\u003cdiv\u003e\n\u003cstyle scoped\u003e\n    .dataframe tbody tr th:only-of-type {\n        vertical-align: middle;\n    }\n\n    .dataframe tbody tr th {\n        vertical-align: top;\n    }\n\n    .dataframe thead th {\n        text-align: right;\n    }\n\u003c/style\u003e\n\u003ctable border=\"1\" class=\"dataframe\"\u003e\n  \u003cthead\u003e\n    \u003ctr style=\"text-align: right;\"\u003e\n      \u003cth\u003e\u003c/th\u003e\n      \u003cth\u003eVariable\u003c/th\u003e\n      \u003cth\u003eVariableDescription\u003c/th\u003e\n      \u003cth\u003eCountry\u003c/th\u003e\n      \u003cth\u003eYear\u003c/th\u003e\n      \u003cth\u003ePercentageValue\u003c/th\u003e\n    \u003c/tr\u003e\n  \u003c/thead\u003e\n  \u003ctbody\u003e\n    \u003ctr\u003e\n      \u003cth\u003e0\u003c/th\u003e\n      \u003ctd\u003eTOTPUBSEW\u003c/td\u003e\n      \u003ctd\u003eTotal public sewerage (% of resident populatio...\u003c/td\u003e\n      \u003ctd\u003eAustralia\u003c/td\u003e\n      \u003ctd\u003e2010\u003c/td\u003e\n      \u003ctd\u003e92.79\u003c/td\u003e\n    \u003c/tr\u003e\n    \u003ctr\u003e\n      \u003cth\u003e1\u003c/th\u003e\n      \u003ctd\u003eTOTPUBSEW\u003c/td\u003e\n      \u003ctd\u003eTotal public sewerage (% of resident populatio...\u003c/td\u003e\n      \u003ctd\u003eAustralia\u003c/td\u003e\n      \u003ctd\u003e2011\u003c/td\u003e\n      \u003ctd\u003e93.84\u003c/td\u003e\n    \u003c/tr\u003e\n    \u003ctr\u003e\n      \u003cth\u003e2\u003c/th\u003e\n      \u003ctd\u003eTOTPUBSEW\u003c/td\u003e\n      \u003ctd\u003eTotal public sewerage (% of resident populatio...\u003c/td\u003e\n      \u003ctd\u003eAustralia\u003c/td\u003e\n      \u003ctd\u003e2012\u003c/td\u003e\n      \u003ctd\u003e94.10\u003c/td\u003e\n    \u003c/tr\u003e\n    \u003ctr\u003e\n      \u003cth\u003e3\u003c/th\u003e\n      \u003ctd\u003eTOTPUBSEW\u003c/td\u003e\n      \u003ctd\u003eTotal public sewerage (% of resident populatio...\u003c/td\u003e\n      \u003ctd\u003eAustralia\u003c/td\u003e\n      \u003ctd\u003e2013\u003c/td\u003e\n      \u003ctd\u003e94.08\u003c/td\u003e\n    \u003c/tr\u003e\n    \u003ctr\u003e\n      \u003cth\u003e4\u003c/th\u003e\n      \u003ctd\u003eTOTPUBSEW\u003c/td\u003e\n      \u003ctd\u003eTotal public sewerage (% of resident populatio...\u003c/td\u003e\n      \u003ctd\u003eAustralia\u003c/td\u003e\n      \u003ctd\u003e2014\u003c/td\u003e\n      \u003ctd\u003e92.57\u003c/td\u003e\n    \u003c/tr\u003e\n  \u003c/tbody\u003e\n\u003c/table\u003e\n\u003c/div\u003e",
                        "text/plain": "    Variable                                VariableDescription    Country  \\\n0  TOTPUBSEW  Total public sewerage (% of resident populatio...  Australia   \n1  TOTPUBSEW  Total public sewerage (% of resident populatio...  Australia   \n2  TOTPUBSEW  Total public sewerage (% of resident populatio...  Australia   \n3  TOTPUBSEW  Total public sewerage (% of resident populatio...  Australia   \n4  TOTPUBSEW  Total public sewerage (% of resident populatio...  Australia   \n\n   Year  PercentageValue  \n0  2010            92.79  \n1  2011            93.84  \n2  2012            94.10  \n3  2013            94.08  \n4  2014            92.57  "
                    },
                    "execution_count": 9,
                    "metadata": {},
                    "output_type": "execute_result"
                }
            ],
            "source": [
                "# Imports necessary packages\n",
                "from sklearn import preprocessing\n",
                "\n",
                "# Create new data frame\n",
                "df = pd.read_csv('SupervisedLearning/waste water treatment.csv')\n",
                "\n",
                "# #Write code below to inspect the first five rows of the data frame\n",
                "df.head()"
            ]
        },
        {
            "cell_type": "code",
            "execution_count": 10,
            "metadata": {},
            "outputs": [],
            "source": [
                "# Create input dataset\n",
                "X = df"
            ]
        },
        {
            "cell_type": "code",
            "execution_count": 11,
            "metadata": {},
            "outputs": [
                {
                    "data": {
                        "text/plain": "(3048, 5)"
                    },
                    "execution_count": 11,
                    "metadata": {},
                    "output_type": "execute_result"
                }
            ],
            "source": [
                "# Write code to inspect the shape of X\n",
                "X.shape"
            ]
        },
        {
            "cell_type": "code",
            "execution_count": 12,
            "metadata": {},
            "outputs": [],
            "source": [
                "# Clean input dataset\n",
                "for i in range(1900, 3048): \n",
                "    X = X.drop(i)\n",
                "\n",
                "for i in range(0, 1900):\n",
                "    if X.VariableDescription[i] == \"Unspecified (other) treatment \": \n",
                "        X = X.drop(i)"
            ]
        },
        {
            "cell_type": "code",
            "execution_count": 13,
            "metadata": {},
            "outputs": [
                {
                    "data": {
                        "text/plain": "(1900, 5)"
                    },
                    "execution_count": 13,
                    "metadata": {},
                    "output_type": "execute_result"
                }
            ],
            "source": [
                "# Write code to inspect the shape of X\n",
                "X.shape"
            ]
        },
        {
            "cell_type": "code",
            "execution_count": 14,
            "metadata": {},
            "outputs": [
                {
                    "data": {
                        "text/plain": "0       Australia\n1       Australia\n2       Australia\n3       Australia\n4       Australia\n          ...    \n1895      Austria\n1896      Austria\n1897      Austria\n1898      Austria\n1899      Austria\nName: Country, Length: 1900, dtype: object"
                    },
                    "execution_count": 14,
                    "metadata": {},
                    "output_type": "execute_result"
                }
            ],
            "source": [
                "# Create output dataset\n",
                "y = X['Country']\n",
                "# y = X.drop(columns = ['VariableDescription','Variable','Year','PercentageValue'])\n",
                "\n",
                "# Write code to inspect y\n",
                "y"
            ]
        },
        {
            "cell_type": "code",
            "execution_count": 15,
            "metadata": {},
            "outputs": [
                {
                    "data": {
                        "text/html": "\u003cdiv\u003e\n\u003cstyle scoped\u003e\n    .dataframe tbody tr th:only-of-type {\n        vertical-align: middle;\n    }\n\n    .dataframe tbody tr th {\n        vertical-align: top;\n    }\n\n    .dataframe thead th {\n        text-align: right;\n    }\n\u003c/style\u003e\n\u003ctable border=\"1\" class=\"dataframe\"\u003e\n  \u003cthead\u003e\n    \u003ctr style=\"text-align: right;\"\u003e\n      \u003cth\u003e\u003c/th\u003e\n      \u003cth\u003eVariableDescription\u003c/th\u003e\n      \u003cth\u003eYear\u003c/th\u003e\n      \u003cth\u003ePercentageValue\u003c/th\u003e\n    \u003c/tr\u003e\n  \u003c/thead\u003e\n  \u003ctbody\u003e\n    \u003ctr\u003e\n      \u003cth\u003e0\u003c/th\u003e\n      \u003ctd\u003eTotal public sewerage (% of resident populatio...\u003c/td\u003e\n      \u003ctd\u003e2010\u003c/td\u003e\n      \u003ctd\u003e92.7900\u003c/td\u003e\n    \u003c/tr\u003e\n    \u003ctr\u003e\n      \u003cth\u003e1\u003c/th\u003e\n      \u003ctd\u003eTotal public sewerage (% of resident populatio...\u003c/td\u003e\n      \u003ctd\u003e2011\u003c/td\u003e\n      \u003ctd\u003e93.8400\u003c/td\u003e\n    \u003c/tr\u003e\n    \u003ctr\u003e\n      \u003cth\u003e2\u003c/th\u003e\n      \u003ctd\u003eTotal public sewerage (% of resident populatio...\u003c/td\u003e\n      \u003ctd\u003e2012\u003c/td\u003e\n      \u003ctd\u003e94.1000\u003c/td\u003e\n    \u003c/tr\u003e\n    \u003ctr\u003e\n      \u003cth\u003e3\u003c/th\u003e\n      \u003ctd\u003eTotal public sewerage (% of resident populatio...\u003c/td\u003e\n      \u003ctd\u003e2013\u003c/td\u003e\n      \u003ctd\u003e94.0800\u003c/td\u003e\n    \u003c/tr\u003e\n    \u003ctr\u003e\n      \u003cth\u003e4\u003c/th\u003e\n      \u003ctd\u003eTotal public sewerage (% of resident populatio...\u003c/td\u003e\n      \u003ctd\u003e2014\u003c/td\u003e\n      \u003ctd\u003e92.5700\u003c/td\u003e\n    \u003c/tr\u003e\n    \u003ctr\u003e\n      \u003cth\u003e...\u003c/th\u003e\n      \u003ctd\u003e...\u003c/td\u003e\n      \u003ctd\u003e...\u003c/td\u003e\n      \u003ctd\u003e...\u003c/td\u003e\n    \u003c/tr\u003e\n    \u003ctr\u003e\n      \u003cth\u003e1895\u003c/th\u003e\n      \u003ctd\u003ePublic total treatment (connected to a wastewa...\u003c/td\u003e\n      \u003ctd\u003e2010\u003c/td\u003e\n      \u003ctd\u003e93.8627\u003c/td\u003e\n    \u003c/tr\u003e\n    \u003ctr\u003e\n      \u003cth\u003e1896\u003c/th\u003e\n      \u003ctd\u003ePublic total treatment (connected to a wastewa...\u003c/td\u003e\n      \u003ctd\u003e2012\u003c/td\u003e\n      \u003ctd\u003e94.5000\u003c/td\u003e\n    \u003c/tr\u003e\n    \u003ctr\u003e\n      \u003cth\u003e1897\u003c/th\u003e\n      \u003ctd\u003ePublic total treatment (connected to a wastewa...\u003c/td\u003e\n      \u003ctd\u003e2014\u003c/td\u003e\n      \u003ctd\u003e94.9676\u003c/td\u003e\n    \u003c/tr\u003e\n    \u003ctr\u003e\n      \u003cth\u003e1898\u003c/th\u003e\n      \u003ctd\u003ePublic total treatment (connected to a wastewa...\u003c/td\u003e\n      \u003ctd\u003e2016\u003c/td\u003e\n      \u003ctd\u003e95.2000\u003c/td\u003e\n    \u003c/tr\u003e\n    \u003ctr\u003e\n      \u003cth\u003e1899\u003c/th\u003e\n      \u003ctd\u003ePublic total treatment (connected to a wastewa...\u003c/td\u003e\n      \u003ctd\u003e2018\u003c/td\u003e\n      \u003ctd\u003e95.9400\u003c/td\u003e\n    \u003c/tr\u003e\n  \u003c/tbody\u003e\n\u003c/table\u003e\n\u003cp\u003e1900 rows × 3 columns\u003c/p\u003e\n\u003c/div\u003e",
                        "text/plain": "                                    VariableDescription  Year  PercentageValue\n0     Total public sewerage (% of resident populatio...  2010          92.7900\n1     Total public sewerage (% of resident populatio...  2011          93.8400\n2     Total public sewerage (% of resident populatio...  2012          94.1000\n3     Total public sewerage (% of resident populatio...  2013          94.0800\n4     Total public sewerage (% of resident populatio...  2014          92.5700\n...                                                 ...   ...              ...\n1895  Public total treatment (connected to a wastewa...  2010          93.8627\n1896  Public total treatment (connected to a wastewa...  2012          94.5000\n1897  Public total treatment (connected to a wastewa...  2014          94.9676\n1898  Public total treatment (connected to a wastewa...  2016          95.2000\n1899  Public total treatment (connected to a wastewa...  2018          95.9400\n\n[1900 rows x 3 columns]"
                    },
                    "execution_count": 15,
                    "metadata": {},
                    "output_type": "execute_result"
                }
            ],
            "source": [
                "# Create input and output datasets\n",
                "X = X.drop(columns = ['Country'])\n",
                "X = X.drop(columns = ['Variable'])\n",
                "\n",
                "# Write code to inspect X\n",
                "X"
            ]
        },
        {
            "cell_type": "code",
            "execution_count": 16,
            "metadata": {},
            "outputs": [
                {
                    "data": {
                        "text/plain": "(1900, 3)"
                    },
                    "execution_count": 16,
                    "metadata": {},
                    "output_type": "execute_result"
                }
            ],
            "source": [
                "# Write code to inspect the shape of X\n",
                "X.shape"
            ]
        },
        {
            "cell_type": "code",
            "execution_count": 17,
            "metadata": {},
            "outputs": [
                {
                    "data": {
                        "text/plain": "(1900,)"
                    },
                    "execution_count": 17,
                    "metadata": {},
                    "output_type": "execute_result"
                }
            ],
            "source": [
                "# Write code to inspect the shape of y\n",
                "y.shape"
            ]
        },
        {
            "cell_type": "code",
            "execution_count": 18,
            "metadata": {},
            "outputs": [
                {
                    "data": {
                        "text/plain": "array([['Total public sewerage (% of resident population connected to urban wastewater collecting system = PUBTOTTR + PUBNOTR)',\n        2010, 92.79],\n       ['Total public sewerage (% of resident population connected to urban wastewater collecting system = PUBTOTTR + PUBNOTR)',\n        2011, 93.84],\n       ['Total public sewerage (% of resident population connected to urban wastewater collecting system = PUBTOTTR + PUBNOTR)',\n        2012, 94.1],\n       ...,\n       ['Public total treatment (connected to a wastewater treatment plant = PUBMECTR + PUBBIOTR + PUBADVTR + OTHERTR)',\n        2014, 94.9676],\n       ['Public total treatment (connected to a wastewater treatment plant = PUBMECTR + PUBBIOTR + PUBADVTR + OTHERTR)',\n        2016, 95.2],\n       ['Public total treatment (connected to a wastewater treatment plant = PUBMECTR + PUBBIOTR + PUBADVTR + OTHERTR)',\n        2018, 95.94]], dtype=object)"
                    },
                    "execution_count": 18,
                    "metadata": {},
                    "output_type": "execute_result"
                }
            ],
            "source": [
                "# X is expected to be an array here. If it's a dataframe, get the array version by running:\n",
                "X = X.values\n",
                "\n",
                "# Write code to inspect X\n",
                "X"
            ]
        },
        {
            "cell_type": "code",
            "execution_count": 19,
            "metadata": {},
            "outputs": [],
            "source": [
                "# Turns strings under \"VariableDescription\" column into integers\n",
                "le_df = preprocessing.LabelEncoder()\n",
                "# le_df.fit(['Primary treatment','Secondary treatment'])\n",
                "le_df.fit(['Total public sewerage (% of resident population connected to urban wastewater collecting system = PUBTOTTR + PUBNOTR)','Connected to a wastewater treatment plant without treatment','Primary treatment','Secondary treatment','Tertiary treatment','Population connected to independent treatment','Total treatment ( = PUBTOTTR + INDEPDTR)','Unspecified (other) treatment','Not connected to public sewerage or independent treatment','Public total treatment (connected to a wastewater treatment plant = PUBMECTR + PUBBIOTR + PUBADVTR + OTHERTR)'])\n",
                "X[:,0] = le_df.transform(X[:,0]) "
            ]
        },
        {
            "cell_type": "code",
            "execution_count": 20,
            "metadata": {},
            "outputs": [
                {
                    "data": {
                        "text/plain": "3.3644574543396373"
                    },
                    "execution_count": 20,
                    "metadata": {},
                    "output_type": "execute_result"
                }
            ],
            "source": [
                "# Compute the maximum entropy value\n",
                "k = y.unique().size\n",
                "maxE = np.log2(k)\n",
                "p_data = y.value_counts(normalize=True)           # counts occurrence of each value\n",
                "entropy = scipy.stats.entropy(p_data)  # get entropy from counts\n",
                "\n",
                "# normalize the value to be between 0 and 1.\n",
                "normalizedE = entropy/maxE\n",
                "\n",
                "# Write code to display the entropy value\n",
                "entropy"
            ]
        },
        {
            "cell_type": "code",
            "execution_count": 21,
            "metadata": {},
            "outputs": [],
            "source": [
                "avg_score = 0.0\n",
                "ntimes = 30\n",
                "\n",
                "for i in repeat(None, ntimes):\n",
                "\n",
                "    # train model with 80% of the data\n",
                "    X_train, X_test, y_train, y_test = train_test_split(X, y, test_size=0.2)\n",
                "\n",
                "    # prediction using entropy\n",
                "    # Note: You can replace 'entropy' by 'gini' to get the classifier to use the gini index criterion.\n",
                "    model = DecisionTreeClassifier(criterion='entropy')\n",
                "    model.fit(X_train,y_train)\n",
                "    predictions = model.predict(X_test)\n",
                "\n",
                "    # compute model accuracy\n",
                "    avg_score += accuracy_score(y_test, predictions)\n",
                "\n",
                "avg_score /= ntimes"
            ]
        },
        {
            "cell_type": "code",
            "execution_count": 22,
            "metadata": {},
            "outputs": [
                {
                    "name": "stdout",
                    "output_type": "stream",
                    "text": "normalized entropy value: 0.656\naverage accuracy score: 0.371\n"
                }
            ],
            "source": [
                "print('normalized entropy value: %.3f'% normalizedE)\n",
                "print('average accuracy score: %.3f' % avg_score)"
            ]
        },
        {
            "cell_type": "code",
            "execution_count": 23,
            "metadata": {},
            "outputs": [],
            "source": [
                "# output visual (can be visualized with visual code)\n",
                "tree.export_graphviz(model, out_file='SupervisedLearning/waste_water_treatment_entropy.dot',\n",
                "                    feature_names=['VariableDescription', 'PercentageValue', 'Year'],\n",
                "                    class_names=sorted(y.unique()),\n",
                "                    label='all',\n",
                "                    rounded=True,\n",
                "                    filled=True)"
            ]
        },
        {
            "attachments": {},
            "cell_type": "markdown",
            "metadata": {},
            "source": [
                "![Screenshot1](/home/SupervisedLearning/zoom2.png)\n",
                "![Screenshot2](/home/SupervisedLearning/zoom1.png)\n",
                "![screenshot3](/home/SupervisedLearning/full_view.png)"
            ]
        }
    ]
}
